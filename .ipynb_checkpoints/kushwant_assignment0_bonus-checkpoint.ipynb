{
 "cells": [
  {
   "cell_type": "markdown",
   "id": "089d28b4-d91e-4fd6-9eed-77384fee9666",
   "metadata": {},
   "source": [
    "# Assignment 0 Bonus\n",
    "\n",
    "Name: Kushwanth Parameshwaraiah <br>\n",
    "UBIT: kushwant <br>\n",
    "Email ID: kushwant@buffalo.edu <br>\n",
    "UB Person Number: 50560593"
   ]
  },
  {
   "cell_type": "markdown",
   "id": "f5315db6-d86a-45bf-b990-949c62fe4d5f",
   "metadata": {},
   "source": [
    "# Deployed on streamlit community server\n",
    "\n",
    "I have used streamlit (https://streamlit.io/) to deploy the CNN model I trained in Part 3 of Assignment 0.\n",
    "\n",
    "We can use the below URL in a browser to access the deployed app.\n",
    "\n",
    "URL: https://kira2406-octmnist-cnn-streamlit-app-phbowu.streamlit.app/\n",
    "\n",
    "github: https://github.com/kira2406/OCTMNIST-CNN-streamlit"
   ]
  },
  {
   "cell_type": "markdown",
   "id": "f305a821-21e6-450a-90ab-a1300f7aebf0",
   "metadata": {},
   "source": [
    "# Deploying in local\n",
    "\n",
    "#### Install streamlit\n",
    "Open command prompt/powershell and run the following command <br>\n",
    "\n",
    "`pip install streamlit`\n",
    "\n",
    "Once streamlit is installed, run the below command in the same terminal <br>\n",
    "\n",
    "`streamlit run app.py`\n",
    "\n",
    "This will locally host the streamlit app at http://localhost:8501 <br>\n",
    "(8501 is the default port used by streamlit. If the port is occupied, streamlit will use an alternative port and the link will be available in the terminal)"
   ]
  },
  {
   "cell_type": "markdown",
   "id": "8455057c-9557-4381-8a98-f2ddcd89b149",
   "metadata": {},
   "source": [
    "# Using the deployed app\n",
    "\n",
    "To test the model, we require Retinal OCR images of size 28x28. <br>\n",
    "We can use OCTMNIST dataset to download images for testing the model.\n",
    "\n",
    "Open command prompt/powershell and run the following command <br>\n",
    "`python run generate.py`\n",
    "\n",
    "This will download 100 images from the OCTMNIST dataset and place the images in a separate folder 'OCTMNIST_data'<br>\n",
    "Under 'OCTMNIST_data' folder, we have created 4 separate folders for each class of the Retinal OCT\n",
    "Images under each folder belong to that particular class.\n"
   ]
  },
  {
   "cell_type": "code",
   "execution_count": null,
   "id": "300b767d-d210-42e7-90d1-7580f5a3d96d",
   "metadata": {},
   "outputs": [],
   "source": []
  }
 ],
 "metadata": {
  "kernelspec": {
   "display_name": "Python 3 (ipykernel)",
   "language": "python",
   "name": "python3"
  },
  "language_info": {
   "codemirror_mode": {
    "name": "ipython",
    "version": 3
   },
   "file_extension": ".py",
   "mimetype": "text/x-python",
   "name": "python",
   "nbconvert_exporter": "python",
   "pygments_lexer": "ipython3",
   "version": "3.12.1"
  }
 },
 "nbformat": 4,
 "nbformat_minor": 5
}
