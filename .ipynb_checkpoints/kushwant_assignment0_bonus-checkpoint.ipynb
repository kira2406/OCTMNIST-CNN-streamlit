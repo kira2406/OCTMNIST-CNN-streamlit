{
 "cells": [
  {
   "cell_type": "markdown",
   "id": "089d28b4-d91e-4fd6-9eed-77384fee9666",
   "metadata": {},
   "source": [
    "# Assignment 0 Bonus\n",
    "\n",
    "Name: Kushwanth Parameshwaraiah <br>\n",
    "UBIT: kushwant <br>\n",
    "Email ID: kushwant@buffalo.edu <br>\n",
    "UB Person Number: 50560593"
   ]
  },
  {
   "cell_type": "code",
   "execution_count": null,
   "id": "026323ab-b01b-43a2-9582-21574c84a3da",
   "metadata": {},
   "outputs": [],
   "source": []
  },
  {
   "cell_type": "code",
   "execution_count": null,
   "id": "6f8b18ac-23a3-4e3b-8b14-37c0542483cc",
   "metadata": {},
   "outputs": [],
   "source": []
  }
 ],
 "metadata": {
  "kernelspec": {
   "display_name": "Python 3 (ipykernel)",
   "language": "python",
   "name": "python3"
  },
  "language_info": {
   "codemirror_mode": {
    "name": "ipython",
    "version": 3
   },
   "file_extension": ".py",
   "mimetype": "text/x-python",
   "name": "python",
   "nbconvert_exporter": "python",
   "pygments_lexer": "ipython3",
   "version": "3.12.1"
  }
 },
 "nbformat": 4,
 "nbformat_minor": 5
}
